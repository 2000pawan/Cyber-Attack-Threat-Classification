{
 "cells": [
  {
   "cell_type": "code",
   "execution_count": 16,
   "id": "e34efa63-7cae-44ce-b720-33e5d2fa4b54",
   "metadata": {},
   "outputs": [],
   "source": [
    "import joblib\n",
    "import pandas as pd \n",
    "import numpy as np"
   ]
  },
  {
   "cell_type": "code",
   "execution_count": 12,
   "id": "e5b2affa-440c-4ed2-8e7b-fd6ead866944",
   "metadata": {},
   "outputs": [],
   "source": [
    "model=joblib.load('random_forest_model.pkl')\n",
    "sc=joblib.load('sc.pkl')\n",
    "model1=joblib.load('svm_model.pkl')\n",
    "k_best=joblib.load('k_best.pkl')"
   ]
  },
  {
   "cell_type": "code",
   "execution_count": 18,
   "id": "3946d514-5cbe-40be-a9cf-fc66c894fcc0",
   "metadata": {},
   "outputs": [
    {
     "name": "stdout",
     "output_type": "stream",
     "text": [
      "(2628094, 79)\n"
     ]
    }
   ],
   "source": [
    "df3=pd.read_csv('cyberattack1.csv')\n",
    "df3=df3.replace([np.inf, -np.inf], np.nan).dropna()\n",
    "print(df3.shape)"
   ]
  },
  {
   "cell_type": "code",
   "execution_count": 105,
   "id": "0169da7c-2ffd-4d32-8b32-bee3fa3b0dac",
   "metadata": {},
   "outputs": [],
   "source": [
    "x=df3.iloc[:50000,:-1].values\n",
    "y=df3.iloc[:50000,-1].values\n",
    "x_best=k_best.transform(x)\n",
    "x_new=sc.transform(x_best)"
   ]
  },
  {
   "cell_type": "code",
   "execution_count": 109,
   "id": "e1fabe26-6756-4b28-ab93-f9fb5593414f",
   "metadata": {},
   "outputs": [
    {
     "data": {
      "text/plain": [
       "0.8956"
      ]
     },
     "execution_count": 109,
     "metadata": {},
     "output_type": "execute_result"
    }
   ],
   "source": [
    "from sklearn.metrics import accuracy_score\n",
    "accuracy_score(y,model.predict(x_new))"
   ]
  },
  {
   "cell_type": "code",
   "execution_count": 111,
   "id": "49c00a85-5864-41a7-96da-32674ca51705",
   "metadata": {},
   "outputs": [
    {
     "data": {
      "text/plain": [
       "array(['BENIGN', 'PortScan', 'BENIGN', ..., 'BENIGN', 'BENIGN', 'BENIGN'],\n",
       "      dtype=object)"
      ]
     },
     "execution_count": 111,
     "metadata": {},
     "output_type": "execute_result"
    }
   ],
   "source": [
    "y"
   ]
  },
  {
   "cell_type": "code",
   "execution_count": 119,
   "id": "c9490580-0bcc-4efa-bc2f-a4cd36967350",
   "metadata": {},
   "outputs": [],
   "source": [
    "z=model.predict(x_new)"
   ]
  },
  {
   "cell_type": "code",
   "execution_count": 121,
   "id": "90c35a0b-46e8-4208-9737-1e229c2bb8c2",
   "metadata": {},
   "outputs": [],
   "source": [
    "x=[]\n",
    "for i in y:\n",
    "    if i in z:\n",
    "        if i not in x:\n",
    "            x.append(i)"
   ]
  },
  {
   "cell_type": "code",
   "execution_count": 122,
   "id": "eb45673b-f7be-4f1c-b38f-58127589013c",
   "metadata": {},
   "outputs": [
    {
     "data": {
      "text/plain": [
       "['BENIGN',\n",
       " 'PortScan',\n",
       " 'DoS Hulk',\n",
       " 'DDoS',\n",
       " 'DoS slowloris',\n",
       " 'DoS GoldenEye',\n",
       " 'DoS Slowhttptest',\n",
       " 'FTP-Patator',\n",
       " 'SSH-Patator']"
      ]
     },
     "execution_count": 122,
     "metadata": {},
     "output_type": "execute_result"
    }
   ],
   "source": [
    "x"
   ]
  },
  {
   "cell_type": "code",
   "execution_count": null,
   "id": "539e0b3b-9b68-4019-b5d9-d3c385a417ec",
   "metadata": {},
   "outputs": [],
   "source": []
  }
 ],
 "metadata": {
  "kernelspec": {
   "display_name": "Python 3 (ipykernel)",
   "language": "python",
   "name": "python3"
  },
  "language_info": {
   "codemirror_mode": {
    "name": "ipython",
    "version": 3
   },
   "file_extension": ".py",
   "mimetype": "text/x-python",
   "name": "python",
   "nbconvert_exporter": "python",
   "pygments_lexer": "ipython3",
   "version": "3.12.7"
  }
 },
 "nbformat": 4,
 "nbformat_minor": 5
}
